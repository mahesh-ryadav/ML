{
 "cells": [
  {
   "cell_type": "markdown",
   "id": "6c732124",
   "metadata": {},
   "source": [
    "Printing Hello World"
   ]
  },
  {
   "cell_type": "code",
   "execution_count": 25,
   "id": "62d7cf73",
   "metadata": {},
   "outputs": [
    {
     "name": "stdout",
     "output_type": "stream",
     "text": [
      "Hello world\n",
      "30\n"
     ]
    }
   ],
   "source": [
    "print(\"Hello world\")\n",
    "a=10\n",
    "b=20\n",
    "c=a+b\n",
    "print(a+b)"
   ]
  },
  {
   "cell_type": "code",
   "execution_count": 26,
   "id": "76dd4f7f",
   "metadata": {},
   "outputs": [
    {
     "name": "stdout",
     "output_type": "stream",
     "text": [
      "30\n"
     ]
    }
   ],
   "source": [
    "def test():\n",
    "    a=10\n",
    "    b=20\n",
    "    print(a+b)\n",
    "test()"
   ]
  },
  {
   "cell_type": "code",
   "execution_count": 27,
   "id": "8facdeeb",
   "metadata": {},
   "outputs": [
    {
     "name": "stdout",
     "output_type": "stream",
     "text": [
      "Hello World!\n",
      "New line\n",
      "Hello World!Hello World!\n",
      "Hello World! Space\n",
      "Hello World!\tTab space\n",
      "Hello WorldBackspace Char\n"
     ]
    }
   ],
   "source": [
    "print(\"Hello World!\", end=\"\\n\")\n",
    "print(\"New line\")\n",
    "print(\"Hello World!\", end=\"\")\n",
    "print(\"Hello World!\")\n",
    "print(\"Hello World!\", end=\" \")\n",
    "print(\"Space\")\n",
    "print(\"Hello World!\", end=\"\\t\")\n",
    "print(\"Tab space\")\n",
    "print(\"Hello World!\", end=\"\\b\")\n",
    "print(\"Backspace Char\")"
   ]
  },
  {
   "cell_type": "markdown",
   "id": "bf32e80c",
   "metadata": {},
   "source": [
    "sep"
   ]
  },
  {
   "cell_type": "code",
   "execution_count": 33,
   "id": "f86539ba",
   "metadata": {},
   "outputs": [
    {
     "name": "stdout",
     "output_type": "stream",
     "text": [
      "10 20 "
     ]
    }
   ],
   "source": [
    "print(a,b,sep=\" \",end=\" \")"
   ]
  },
  {
   "cell_type": "markdown",
   "id": "8616e56a",
   "metadata": {},
   "source": [
    "#input Function :\n",
    "it is responsible to take input from the user"
   ]
  },
  {
   "cell_type": "code",
   "execution_count": 3,
   "id": "43cefac3",
   "metadata": {},
   "outputs": [
    {
     "name": "stdout",
     "output_type": "stream",
     "text": [
      "10\n"
     ]
    }
   ],
   "source": [
    "x=input()\n",
    "print(x)"
   ]
  },
  {
   "cell_type": "code",
   "execution_count": 5,
   "id": "aab38901",
   "metadata": {},
   "outputs": [
    {
     "name": "stdout",
     "output_type": "stream",
     "text": [
      "Apple\n"
     ]
    },
    {
     "data": {
      "text/plain": [
       "str"
      ]
     },
     "execution_count": 5,
     "metadata": {},
     "output_type": "execute_result"
    }
   ],
   "source": [
    "message = input(\"Enter a number: \")\n",
    "print(message)\n",
    "type(message)"
   ]
  },
  {
   "cell_type": "markdown",
   "id": "655671e0",
   "metadata": {},
   "source": [
    "# Two main types:\n",
    "\n",
    "# Syntax errors\n",
    " – mistakes in code structure (found before running).\n",
    "\n",
    "# Runtime errors (exceptions)\n",
    " – happen while the program is running."
   ]
  },
  {
   "cell_type": "code",
   "execution_count": 6,
   "id": "3086cbe1",
   "metadata": {},
   "outputs": [
    {
     "ename": "ZeroDivisionError",
     "evalue": "division by zero",
     "output_type": "error",
     "traceback": [
      "\u001b[31m---------------------------------------------------------------------------\u001b[39m",
      "\u001b[31mZeroDivisionError\u001b[39m                         Traceback (most recent call last)",
      "\u001b[36mCell\u001b[39m\u001b[36m \u001b[39m\u001b[32mIn[6]\u001b[39m\u001b[32m, line 3\u001b[39m\n\u001b[32m      1\u001b[39m x = \u001b[32m10\u001b[39m\n\u001b[32m      2\u001b[39m y=\u001b[32m0\u001b[39m\n\u001b[32m----> \u001b[39m\u001b[32m3\u001b[39m \u001b[38;5;28mprint\u001b[39m(\u001b[43mx\u001b[49m\u001b[43m/\u001b[49m\u001b[43my\u001b[49m)\n",
      "\u001b[31mZeroDivisionError\u001b[39m: division by zero"
     ]
    }
   ],
   "source": [
    "x = 10\n",
    "y=0\n",
    "print(x/y)"
   ]
  }
 ],
 "metadata": {
  "kernelspec": {
   "display_name": "Python 3",
   "language": "python",
   "name": "python3"
  },
  "language_info": {
   "codemirror_mode": {
    "name": "ipython",
    "version": 3
   },
   "file_extension": ".py",
   "mimetype": "text/x-python",
   "name": "python",
   "nbconvert_exporter": "python",
   "pygments_lexer": "ipython3",
   "version": "3.13.6"
  }
 },
 "nbformat": 4,
 "nbformat_minor": 5
}
